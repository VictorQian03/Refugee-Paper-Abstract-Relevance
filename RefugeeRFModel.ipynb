{
 "cells": [
  {
   "cell_type": "code",
   "execution_count": 41,
   "metadata": {},
   "outputs": [],
   "source": [
    "import numpy as np\n",
    "import pandas as pd\n",
    "from sklearn.model_selection import train_test_split, cross_val_score, GridSearchCV\n",
    "from sklearn.pipeline import Pipeline\n",
    "from sklearn.feature_extraction.text import CountVectorizer\n",
    "from sklearn.ensemble import RandomForestClassifier\n",
    "from sklearn.metrics import classification_report\n",
    "from sklearn.model_selection import StratifiedKFold\n",
    "from sklearn.utils import shuffle"
   ]
  },
  {
   "cell_type": "code",
   "execution_count": 27,
   "metadata": {},
   "outputs": [
    {
     "data": {
      "text/html": [
       "<div>\n",
       "<style scoped>\n",
       "    .dataframe tbody tr th:only-of-type {\n",
       "        vertical-align: middle;\n",
       "    }\n",
       "\n",
       "    .dataframe tbody tr th {\n",
       "        vertical-align: top;\n",
       "    }\n",
       "\n",
       "    .dataframe thead th {\n",
       "        text-align: right;\n",
       "    }\n",
       "</style>\n",
       "<table border=\"1\" class=\"dataframe\">\n",
       "  <thead>\n",
       "    <tr style=\"text-align: right;\">\n",
       "      <th></th>\n",
       "      <th>Number</th>\n",
       "      <th>Abstract</th>\n",
       "      <th>Relevance</th>\n",
       "    </tr>\n",
       "  </thead>\n",
       "  <tbody>\n",
       "    <tr>\n",
       "      <th>0</th>\n",
       "      <td>1</td>\n",
       "      <td>Traditional accounts of intergroup bias often ...</td>\n",
       "      <td>1</td>\n",
       "    </tr>\n",
       "    <tr>\n",
       "      <th>1</th>\n",
       "      <td>2</td>\n",
       "      <td>Religion is often a driving force in negative ...</td>\n",
       "      <td>1</td>\n",
       "    </tr>\n",
       "    <tr>\n",
       "      <th>2</th>\n",
       "      <td>3</td>\n",
       "      <td>Summary: Anger, hostility and mistrust towards...</td>\n",
       "      <td>1</td>\n",
       "    </tr>\n",
       "    <tr>\n",
       "      <th>3</th>\n",
       "      <td>4</td>\n",
       "      <td>There has been much discussion recently that b...</td>\n",
       "      <td>1</td>\n",
       "    </tr>\n",
       "    <tr>\n",
       "      <th>4</th>\n",
       "      <td>5</td>\n",
       "      <td>Background Although migrants constitute an imp...</td>\n",
       "      <td>0</td>\n",
       "    </tr>\n",
       "  </tbody>\n",
       "</table>\n",
       "</div>"
      ],
      "text/plain": [
       "   Number                                           Abstract  Relevance\n",
       "0       1  Traditional accounts of intergroup bias often ...          1\n",
       "1       2  Religion is often a driving force in negative ...          1\n",
       "2       3  Summary: Anger, hostility and mistrust towards...          1\n",
       "3       4  There has been much discussion recently that b...          1\n",
       "4       5  Background Although migrants constitute an imp...          0"
      ]
     },
     "execution_count": 27,
     "metadata": {},
     "output_type": "execute_result"
    }
   ],
   "source": [
    "df = pd.read_excel('RefugeeTraining.xlsx')\n",
    "df.head()"
   ]
  },
  {
   "cell_type": "markdown",
   "metadata": {},
   "source": [
    "Data Splitting"
   ]
  },
  {
   "cell_type": "code",
   "execution_count": 28,
   "metadata": {},
   "outputs": [],
   "source": [
    "df['Abstract'].fillna('', inplace=True)\n",
    "X = df['Abstract']\n",
    "y = df['Relevance']\n",
    "df_shuffled = shuffle(df, random_state=42)\n",
    "X_shuffled = df_shuffled['Abstract']\n",
    "y_shuffled = df_shuffled['Relevance']"
   ]
  },
  {
   "cell_type": "markdown",
   "metadata": {},
   "source": [
    "Preprocessing Pipeline"
   ]
  },
  {
   "cell_type": "code",
   "execution_count": 55,
   "metadata": {},
   "outputs": [],
   "source": [
    "pipeline = Pipeline([\n",
    "    ('vectorizer', CountVectorizer()),\n",
    "    ('classifier', RandomForestClassifier(n_estimators=100, random_state=42, class_weight='balanced'))\n",
    "])"
   ]
  },
  {
   "cell_type": "markdown",
   "metadata": {},
   "source": [
    "Cross-Validation"
   ]
  },
  {
   "cell_type": "code",
   "execution_count": 56,
   "metadata": {},
   "outputs": [
    {
     "name": "stdout",
     "output_type": "stream",
     "text": [
      "Cross-validation scores: [0.81304348 0.84347826 0.85652174 0.85217391 0.83478261 0.82173913\n",
      " 0.82608696 0.82532751 0.84279476 0.84279476]\n",
      "Mean accuracy: 0.8358743117524208\n"
     ]
    }
   ],
   "source": [
    "k = 10  \n",
    "scores = cross_val_score(pipeline, X_shuffled, y_shuffled, cv=k, scoring='accuracy')\n",
    "print(f'Cross-validation scores: {scores}')\n",
    "print(f'Mean accuracy: {scores.mean()}')"
   ]
  },
  {
   "cell_type": "code",
   "execution_count": 57,
   "metadata": {},
   "outputs": [],
   "source": [
    "X_indices = range(len(X))\n",
    "X_even = X.iloc[X_indices[0::2]]\n",
    "y_even = y.iloc[X_indices[0::2]]\n",
    "X_odd = X.iloc[X_indices[1::2]]\n",
    "y_odd = y.iloc[X_indices[1::2]]"
   ]
  },
  {
   "cell_type": "markdown",
   "metadata": {},
   "source": [
    "Training with even indices, testing with odd indices"
   ]
  },
  {
   "cell_type": "code",
   "execution_count": 58,
   "metadata": {},
   "outputs": [
    {
     "name": "stdout",
     "output_type": "stream",
     "text": [
      "Classification report for model trained on even indices, tested on odd indices:\n",
      "              precision    recall  f1-score   support\n",
      "\n",
      "           0       0.74      1.00      0.85       803\n",
      "           1       1.00      0.18      0.30       345\n",
      "\n",
      "    accuracy                           0.75      1148\n",
      "   macro avg       0.87      0.59      0.58      1148\n",
      "weighted avg       0.82      0.75      0.69      1148\n",
      "\n"
     ]
    }
   ],
   "source": [
    "pipeline.fit(X_even, y_even)\n",
    "y_pred_odd = pipeline.predict(X_odd)\n",
    "print(\"Classification report for model trained on even indices, tested on odd indices:\")\n",
    "print(classification_report(y_odd, y_pred_odd))"
   ]
  },
  {
   "cell_type": "markdown",
   "metadata": {},
   "source": [
    "Precision: \n",
    "74% of predictions made for class 0 were correct, while 100% of predictions made for class 1 were correct\n",
    "\n",
    "Recall: \n",
    "The model correctly identified all actual instances of class 0, while it identified 18% of all actual instances of class 1.\n",
    "\n",
    "Accuracy:\n",
    "75% of all predictions were correct. \n"
   ]
  },
  {
   "cell_type": "markdown",
   "metadata": {},
   "source": [
    "Training with odd indices, testing with even indices"
   ]
  },
  {
   "cell_type": "code",
   "execution_count": 59,
   "metadata": {},
   "outputs": [
    {
     "name": "stdout",
     "output_type": "stream",
     "text": [
      "Classification report for model trained on odd indices, tested on even indices:\n",
      "              precision    recall  f1-score   support\n",
      "\n",
      "           0       0.91      0.91      0.91       920\n",
      "           1       0.65      0.64      0.64       229\n",
      "\n",
      "    accuracy                           0.86      1149\n",
      "   macro avg       0.78      0.78      0.78      1149\n",
      "weighted avg       0.86      0.86      0.86      1149\n",
      "\n"
     ]
    }
   ],
   "source": [
    "pipeline.fit(X_odd, y_odd)\n",
    "y_pred_even = pipeline.predict(X_even)\n",
    "print(\"Classification report for model trained on odd indices, tested on even indices:\")\n",
    "print(classification_report(y_even, y_pred_even))"
   ]
  },
  {
   "cell_type": "markdown",
   "metadata": {},
   "source": [
    "Precision: \n",
    "91% of predictions made for class 0 were correct, while 65% of predictions made for class 1 were correct.\n",
    "\n",
    "Recall: \n",
    "The model correctly identified 91% of the actual class 0 instances, while it identified 64% of the actual class 1 instances.\n",
    "\n",
    "Accuracy: \n",
    "86% of all predictions were correct."
   ]
  },
  {
   "cell_type": "code",
   "execution_count": 60,
   "metadata": {},
   "outputs": [
    {
     "name": "stdout",
     "output_type": "stream",
     "text": [
      "Classification report for random training/test split:\n",
      "              precision    recall  f1-score   support\n",
      "\n",
      "           0       0.83      0.97      0.90       344\n",
      "           1       0.83      0.41      0.55       116\n",
      "\n",
      "    accuracy                           0.83       460\n",
      "   macro avg       0.83      0.69      0.72       460\n",
      "weighted avg       0.83      0.83      0.81       460\n",
      "\n"
     ]
    }
   ],
   "source": [
    "X_train, X_test, y_train, y_test = train_test_split(X, y, test_size=0.2, random_state=42)\n",
    "pipeline.fit(X_train, y_train)\n",
    "\n",
    "y_pred = pipeline.predict(X_test)\n",
    "print(\"Classification report for random training/test split:\")\n",
    "print(classification_report(y_test, y_pred, output_dict=False))"
   ]
  },
  {
   "cell_type": "markdown",
   "metadata": {},
   "source": [
    "Precision: \n",
    "83% of predictions made for class 0 were correct, while 83% of predictions made for class 1 were correct.\n",
    "\n",
    "Recall: \n",
    "The model correctly identified 97% of the actual class 0 instances, while it identified 41% of the actual class 1 instances.\n",
    "\n",
    "Accuracy: \n",
    "83% of all predictions were correct."
   ]
  }
 ],
 "metadata": {
  "kernelspec": {
   "display_name": "Python 3",
   "language": "python",
   "name": "python3"
  },
  "language_info": {
   "codemirror_mode": {
    "name": "ipython",
    "version": 3
   },
   "file_extension": ".py",
   "mimetype": "text/x-python",
   "name": "python",
   "nbconvert_exporter": "python",
   "pygments_lexer": "ipython3",
   "version": "3.11.7"
  }
 },
 "nbformat": 4,
 "nbformat_minor": 2
}
